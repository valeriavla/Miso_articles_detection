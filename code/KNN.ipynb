{
 "cells": [
  {
   "cell_type": "code",
   "execution_count": 31,
   "metadata": {},
   "outputs": [
    {
     "name": "stderr",
     "output_type": "stream",
     "text": [
      "[nltk_data] Downloading package vader_lexicon to\n",
      "[nltk_data]     /Users/zhu/nltk_data...\n",
      "[nltk_data]   Package vader_lexicon is already up-to-date!\n",
      "[nltk_data] Downloading package punkt to /Users/zhu/nltk_data...\n",
      "[nltk_data]   Package punkt is already up-to-date!\n",
      "[nltk_data] Downloading package wordnet to /Users/zhu/nltk_data...\n",
      "[nltk_data]   Package wordnet is already up-to-date!\n",
      "[nltk_data] Downloading package omw-1.4 to /Users/zhu/nltk_data...\n",
      "[nltk_data]   Package omw-1.4 is already up-to-date!\n"
     ]
    },
    {
     "data": {
      "text/plain": [
       "True"
      ]
     },
     "execution_count": 31,
     "metadata": {},
     "output_type": "execute_result"
    }
   ],
   "source": [
    "import matplotlib.pyplot as plt\n",
    "import string \n",
    "import nltk\n",
    "from nltk.stem import WordNetLemmatizer\n",
    "from nltk.stem import PorterStemmer\n",
    "import pandas as pd\n",
    "from sklearn.feature_extraction.text import CountVectorizer\n",
    "import numpy as np\n",
    "\n",
    "\n",
    "from sklearn.feature_extraction.text import CountVectorizer\n",
    "from sklearn.metrics import accuracy_score, cohen_kappa_score, f1_score, classification_report\n",
    "from sklearn.model_selection import StratifiedKFold, train_test_split\n",
    "from sklearn.naive_bayes import MultinomialNB\n",
    "\n",
    "nltk.download('vader_lexicon')\n",
    "nltk.download('punkt')\n",
    "nltk.download('wordnet')\n",
    "nltk.download('omw-1.4')"
   ]
  },
  {
   "cell_type": "code",
   "execution_count": 32,
   "metadata": {},
   "outputs": [
    {
     "name": "stdout",
     "output_type": "stream",
     "text": [
      "(10029, 3)\n",
      "index = 0 : label = 0\n",
      "index = 1 : label = 1\n",
      "number of text chunks =  10029\n",
      "['  no sé si das más pena tú o tu terrible ortografía\\x85 pinche naca', ' cuando todo se va al infierno la gente que está a tu lado sin vacilar es tu familia', ' en 1800 nace natturner el esclavo rebelde del sur de estadosunidos ']\n"
     ]
    }
   ],
   "source": [
    "#RELOAD FILE\n",
    "df=pd.read_csv('cleaned_tweets.csv')  \n",
    "print(df.shape)\n",
    "\n",
    "#CONVERT FROM STRING LABELS TO INTEGERS \n",
    "labels=[]; #y1=[]; y2=[]\n",
    "y1=[]\n",
    "for label in df[\"label\"]:\n",
    "    if label not in labels:\n",
    "        labels.append(label)\n",
    "        print(\"index =\",len(labels)-1,\": label =\",label)\n",
    "    for i in range(0,len(labels)):\n",
    "        if(label==labels[i]):\n",
    "            y1.append(i)\n",
    "y1=np.array(y1)\n",
    "\n",
    "# CONVERT DF TO LIST OF STRINGS \n",
    "corpus=df[\"tweets\"].to_list()\n",
    "\n",
    "\n",
    "print(\"number of text chunks = \",len(corpus))\n",
    "print(corpus[0:3])"
   ]
  },
  {
   "cell_type": "code",
   "execution_count": 33,
   "metadata": {},
   "outputs": [],
   "source": [
    "import matplotlib.pyplot as plt\n",
    "import pandas as pd\n",
    "from sklearn.feature_extraction.text import CountVectorizer\n",
    "import numpy as np\n",
    "from sklearn.metrics import accuracy_score"
   ]
  },
  {
   "cell_type": "code",
   "execution_count": 34,
   "metadata": {},
   "outputs": [],
   "source": [
    "# split the dataset into train and test\n",
    "# df_train, df_test = train_test_split(df, test_size=0.20)"
   ]
  },
  {
   "cell_type": "code",
   "execution_count": 35,
   "metadata": {},
   "outputs": [
    {
     "name": "stdout",
     "output_type": "stream",
     "text": [
      "(10029, 1113) (10029,)\n",
      "DATA POINT-0: [0. 0. 0. 0. 0. 0. 0. 0. 0. 0.] y1 = 0\n"
     ]
    }
   ],
   "source": [
    "# INITIALIZE COUNT VECTORIZER\n",
    "# minDF = 0.01 means \"ignore terms that appear in less than 1% of the documents\". \n",
    "# minDF = 5 means \"ignore terms that appear in less than 5 documents\".\n",
    "vectorizer=CountVectorizer(min_df=0.001)   \n",
    "\n",
    "# RUN COUNT VECTORIZER ON OUR COURPUS \n",
    "Xs  =  vectorizer.fit_transform(corpus)   \n",
    "X=np.array(Xs.todense())\n",
    "\n",
    "#CONVERT TO ONE-HOT VECTORS\n",
    "maxs=np.max(X,axis=0)\n",
    "X=np.ceil(X/maxs)\n",
    "\n",
    "# DOUBLE CHECK \n",
    "print(X.shape,y1.shape)\n",
    "print(\"DATA POINT-0:\",X[0,0:10],\"y1 =\",y1[0])"
   ]
  },
  {
   "cell_type": "code",
   "execution_count": 36,
   "metadata": {},
   "outputs": [
    {
     "name": "stdout",
     "output_type": "stream",
     "text": [
      "x_train.shape\t\t: (8023, 1113)\n",
      "y_train.shape\t\t: (8023,)\n",
      "X_test.shape\t\t: (2006, 1113)\n",
      "y_test.shape\t\t: (2006,)\n"
     ]
    }
   ],
   "source": [
    "from sklearn.model_selection import train_test_split\n",
    "test_ratio=0.2\n",
    "\n",
    "# SPLIT ARRAYS OR MATRICES INTO RANDOM TRAIN AND TEST SUBSETS.\n",
    "x_train, x_test, y_train, y_test = train_test_split(X, y1, test_size=test_ratio, random_state=0)\n",
    "y_train=y_train.flatten()\n",
    "y_test=y_test.flatten()\n",
    "\n",
    "print(\"x_train.shape\t\t:\",x_train.shape)\n",
    "print(\"y_train.shape\t\t:\",y_train.shape)\n",
    "\n",
    "print(\"X_test.shape\t\t:\",x_test.shape)\n",
    "print(\"y_test.shape\t\t:\",y_test.shape)"
   ]
  },
  {
   "cell_type": "code",
   "execution_count": 37,
   "metadata": {},
   "outputs": [
    {
     "name": "stdout",
     "output_type": "stream",
     "text": [
      "[0 0 1 1 0 0 1 1 1 0 0 1 0 1 0 0 0 0 0 1 0 1 1 0 0 0 0 0 1 0 1 1 0 0 0 0 1\n",
      " 1 1 0 0 0 0 0 1 1 1 1 0 0 1 0 1 1 1 1 1 0 0 0 0 1 1 0 0 1 0 0 1 1 1 0 0 1\n",
      " 1 0 1 0 0 0 1 0 0 0 1 1 1 1 1 1 0 1 0 1 1 1 0 0 1 0]\n"
     ]
    }
   ],
   "source": [
    "#CHECK TO MAKE SURE IT WAS RANDOMIZED \n",
    "print(y_train[0:100])"
   ]
  },
  {
   "cell_type": "code",
   "execution_count": 38,
   "metadata": {},
   "outputs": [],
   "source": [
    "def report(y,ypred):\n",
    "      #ACCURACY COMPUTE \n",
    "      print(\"Accuracy:\",accuracy_score(y, ypred)*100)\n",
    "      print(\"Number of mislabeled points out of a total %d points = %d\"\n",
    "            % (y.shape[0], (y != ypred).sum()))\n",
    "\n",
    "def print_model_summary():\n",
    "      # LABEL PREDICTIONS FOR TRAINING AND TEST SET \n",
    "      yp_train = model.predict(x_train)\n",
    "      yp_test = model.predict(x_test)\n",
    "\n",
    "      print(\"ACCURACY CALCULATION\\n\")\n",
    "\n",
    "      print(\"TRAINING SET:\")\n",
    "      report(y_train,yp_train)\n",
    "\n",
    "      print(\"\\nTEST SET (UNTRAINED DATA):\")\n",
    "      report(y_test,yp_test)\n",
    "\n",
    "      print(\"\\nCHECK FIRST 20 PREDICTIONS\")\n",
    "      print(\"TRAINING SET:\")\n",
    "      print(y_train[0:20])\n",
    "      print(yp_train[0:20])\n",
    "      print(\"ERRORS:\",yp_train[0:20]-y_train[0:20])\n",
    "\n",
    "      print(\"\\nTEST SET (UNTRAINED DATA):\")\n",
    "      print(y_test[0:20])\n",
    "      print(yp_test[0:20])\n",
    "      print(\"ERRORS:\",yp_test[0:20]-y_test[0:20])"
   ]
  },
  {
   "cell_type": "code",
   "execution_count": 39,
   "metadata": {},
   "outputs": [
    {
     "name": "stdout",
     "output_type": "stream",
     "text": [
      "n_neighbors = 1\n",
      " train accuracy: 99.10258008226349\n",
      " test accuracy: 68.79361914257228\n",
      "n_neighbors = 2\n",
      " train accuracy: 86.0650629440359\n",
      " test accuracy: 66.6999002991027\n",
      "n_neighbors = 3\n",
      " train accuracy: 84.45718559142466\n",
      " test accuracy: 67.84646061814557\n",
      "n_neighbors = 4\n",
      " train accuracy: 81.78985416926336\n",
      " test accuracy: 68.39481555333998\n",
      "n_neighbors = 5\n",
      " train accuracy: 79.43412688520503\n",
      " test accuracy: 68.19541375872383\n",
      "n_neighbors = 6\n",
      " train accuracy: 79.6834101956874\n",
      " test accuracy: 69.0927218344965\n",
      "n_neighbors = 7\n",
      " train accuracy: 77.6268228842079\n",
      " test accuracy: 69.54137587238284\n",
      "n_neighbors = 8\n",
      " train accuracy: 77.61435871868379\n",
      " test accuracy: 69.39182452642075\n",
      "n_neighbors = 9\n",
      " train accuracy: 76.20590801445843\n",
      " test accuracy: 68.39481555333998\n",
      "n_neighbors = 10\n",
      " train accuracy: 76.71693880094728\n",
      " test accuracy: 68.74376869391826\n",
      "n_neighbors = 11\n",
      " train accuracy: 74.69774398604014\n",
      " test accuracy: 68.64406779661016\n",
      "n_neighbors = 12\n",
      " train accuracy: 75.28355976567369\n",
      " test accuracy: 69.69092721834497\n",
      "n_neighbors = 13\n",
      " train accuracy: 74.09946404088247\n",
      " test accuracy: 68.6939182452642\n",
      "n_neighbors = 14\n",
      " train accuracy: 75.03427645519133\n",
      " test accuracy: 69.0927218344965\n",
      "n_neighbors = 15\n",
      " train accuracy: 74.0620715443101\n",
      " test accuracy: 68.49451645064806\n",
      "n_neighbors = 16\n",
      " train accuracy: 74.5357098342266\n",
      " test accuracy: 69.79062811565304\n",
      "n_neighbors = 17\n",
      " train accuracy: 73.23943661971832\n",
      " test accuracy: 68.9431704885344\n",
      "n_neighbors = 18\n",
      " train accuracy: 74.33628318584071\n",
      " test accuracy: 69.89032901296112\n",
      "n_neighbors = 19\n",
      " train accuracy: 73.15218746104948\n",
      " test accuracy: 68.29511465603191\n",
      "n_neighbors = 20\n",
      " train accuracy: 73.65075408201422\n",
      " test accuracy: 69.59122632103688\n",
      "n_neighbors = 21\n",
      " train accuracy: 72.71594166770534\n",
      " test accuracy: 68.09571286141576\n",
      "n_neighbors = 22\n",
      " train accuracy: 73.5011840957248\n",
      " test accuracy: 69.69092721834497\n",
      "n_neighbors = 23\n",
      " train accuracy: 72.65362084008476\n",
      " test accuracy: 68.54436689930209\n",
      "n_neighbors = 24\n",
      " train accuracy: 73.23943661971832\n",
      " test accuracy: 69.740777666999\n",
      "n_neighbors = 25\n",
      " train accuracy: 72.67854917113299\n",
      " test accuracy: 68.99302093718843\n",
      "n_neighbors = 26\n",
      " train accuracy: 73.88757322697246\n",
      " test accuracy: 69.59122632103688\n",
      "n_neighbors = 27\n",
      " train accuracy: 72.77826249532595\n",
      " test accuracy: 68.44466600199401\n",
      "n_neighbors = 28\n",
      " train accuracy: 73.60089741991773\n",
      " test accuracy: 68.99302093718843\n",
      "n_neighbors = 29\n",
      " train accuracy: 72.57883584694005\n",
      " test accuracy: 68.19541375872383\n",
      "n_neighbors = 30\n",
      " train accuracy: 73.05247413685653\n",
      " test accuracy: 69.0927218344965\n",
      "n_neighbors = 31\n",
      " train accuracy: 72.15505421912003\n",
      " test accuracy: 68.34496510468594\n",
      "n_neighbors = 32\n",
      " train accuracy: 72.7533341642777\n",
      " test accuracy: 68.19541375872383\n",
      "n_neighbors = 33\n",
      " train accuracy: 72.0678050604512\n",
      " test accuracy: 68.19541375872383\n",
      "n_neighbors = 34\n",
      " train accuracy: 72.45419419169886\n",
      " test accuracy: 69.0927218344965\n",
      "n_neighbors = 35\n",
      " train accuracy: 71.61909510158296\n",
      " test accuracy: 67.79661016949152\n",
      "n_neighbors = 36\n",
      " train accuracy: 72.47912252274709\n",
      " test accuracy: 68.9431704885344\n",
      "n_neighbors = 37\n",
      " train accuracy: 71.1703851427147\n",
      " test accuracy: 68.34496510468594\n",
      "n_neighbors = 38\n",
      " train accuracy: 71.93069923968591\n",
      " test accuracy: 68.39481555333998\n",
      "n_neighbors = 39\n",
      " train accuracy: 70.77153184594292\n",
      " test accuracy: 68.04586241276172\n"
     ]
    }
   ],
   "source": [
    "## Classification model-2: KNN \n",
    "\n",
    "## Hyper-Parameter tuning\n",
    "\n",
    "from sklearn.neighbors import KNeighborsClassifier\n",
    "\n",
    "\n",
    "# HYPER PARAMETER SEARCH FOR OPTIMAL NUMBER OF NEIGHBORS \n",
    "num_neighbors=[]\n",
    "train_accuracy=[]\n",
    "test_accuracy=[]\n",
    "\n",
    "# LOOP OVER HYPER-PARAM\n",
    "for i in range(1,40):\n",
    "    # INITIALIZE MODEL \n",
    "    model = KNeighborsClassifier(n_neighbors=i)\n",
    "\n",
    "    # TRAIN MODEL \n",
    "    model.fit(x_train,y_train)\n",
    "\n",
    "    # LABEL PREDICTIONS FOR TRAINING AND TEST SET \n",
    "    yp_train = model.predict(x_train)\n",
    "    yp_test = model.predict(x_test)\n",
    "\n",
    "    print(\"n_neighbors =\",i)\n",
    "    acc1=accuracy_score(y_train, yp_train)*100\n",
    "    acc2=accuracy_score(y_test, yp_test)*100\n",
    "\n",
    "    num_neighbors.append(i)\n",
    "    train_accuracy.append(acc1)\n",
    "    test_accuracy.append(acc2)\n",
    "\n",
    "    print(\" train accuracy:\",acc1)\n",
    "    print(\" test accuracy:\" ,acc2)"
   ]
  },
  {
   "cell_type": "code",
   "execution_count": 40,
   "metadata": {},
   "outputs": [
    {
     "data": {
      "text/plain": [
       "Text(0, 0.5, 'Training (black) and test (blue) accuracy')"
      ]
     },
     "execution_count": 40,
     "metadata": {},
     "output_type": "execute_result"
    },
    {
     "data": {
      "image/png": "[encoded data removed]",
      "text/plain": [
       "<Figure size 640x480 with 1 Axes>"
      ]
     },
     "metadata": {},
     "output_type": "display_data"
    }
   ],
   "source": [
    "# Convergence plot\n",
    "plt.plot(num_neighbors,train_accuracy ,linewidth=2, color='k')\n",
    "plt.plot(num_neighbors,test_accuracy ,linewidth=2, color='b')\n",
    "\n",
    "plt.xlabel(\"Number of neighbors in KNN\")\n",
    "plt.ylabel(\"Training (black) and test (blue) accuracy\")\n",
    "# plt.savefig(\"convergence_plot.png\")"
   ]
  },
  {
   "cell_type": "code",
   "execution_count": 41,
   "metadata": {},
   "outputs": [
    {
     "name": "stdout",
     "output_type": "stream",
     "text": [
      "ACCURACY CALCULATION\n",
      "\n",
      "TRAINING SET:\n",
      "Accuracy: 73.05247413685653\n",
      "Number of mislabeled points out of a total 8023 points = 2162\n",
      "\n",
      "TEST SET (UNTRAINED DATA):\n",
      "Accuracy: 69.0927218344965\n",
      "Number of mislabeled points out of a total 2006 points = 620\n",
      "\n",
      "CHECK FIRST 20 PREDICTIONS\n",
      "TRAINING SET:\n",
      "[0 0 1 1 0 0 1 1 1 0 0 1 0 1 0 0 0 0 0 1]\n",
      "[1 1 1 1 0 0 1 1 1 0 1 1 0 1 1 1 0 0 0 1]\n",
      "ERRORS: [1 1 0 0 0 0 0 0 0 0 1 0 0 0 1 1 0 0 0 0]\n",
      "\n",
      "TEST SET (UNTRAINED DATA):\n",
      "[0 0 1 1 1 1 0 0 0 1 1 1 1 1 0 0 1 0 1 0]\n",
      "[1 0 1 0 0 1 0 1 0 1 1 1 1 1 1 0 1 1 0 0]\n",
      "ERRORS: [ 1  0  0 -1 -1  0  0  1  0  0  0  0  0  0  1  0  0  1 -1  0]\n"
     ]
    }
   ],
   "source": [
    "# RETRAIN WITH OPTIMAL HYPER-PARAMETERS\n",
    "\n",
    "# INITIALIZE MODEL \n",
    "model = KNeighborsClassifier(n_neighbors=30)\n",
    "\n",
    "# TRAIN MODEL \n",
    "model.fit(x_train,y_train)\n",
    "\n",
    "# PRINT REPORT USING UTILITY FUNCTION ABOVE\n",
    "print_model_summary()"
   ]
  }
 ],
 "metadata": {
  "kernelspec": {
   "display_name": "Python 3.9.13 ('nlp')",
   "language": "python",
   "name": "python3"
  },
  "language_info": {
   "codemirror_mode": {
    "name": "ipython",
    "version": 3
   },
   "file_extension": ".py",
   "mimetype": "text/x-python",
   "name": "python",
   "nbconvert_exporter": "python",
   "pygments_lexer": "ipython3",
   "version": "3.9.13"
  },
  "orig_nbformat": 4,
  "vscode": {
   "interpreter": {
    "hash": "0638b84c441d23f3bf1e5bbb68dbbbae5f508c99744b50e7a508082753ac4090"
   }
  }
 },
 "nbformat": 4,
 "nbformat_minor": 2
}
