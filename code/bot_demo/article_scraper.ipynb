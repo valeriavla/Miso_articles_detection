{
 "cells": [
  {
   "cell_type": "markdown",
   "metadata": {},
   "source": [
    "# Article Web Scraper\n",
    "Testing code for article web scraper on [this](https://www.cnn.com/2021/03/23/us/boulder-colorado-shooting-tuesday) CNN article."
   ]
  },
  {
   "cell_type": "markdown",
   "metadata": {},
   "source": [
    "Import packages:"
   ]
  },
  {
   "cell_type": "code",
   "execution_count": 1,
   "metadata": {},
   "outputs": [],
   "source": [
    "from newspaper import Article"
   ]
  },
  {
   "cell_type": "code",
   "execution_count": 2,
   "metadata": {},
   "outputs": [
    {
     "name": "stdout",
     "output_type": "stream",
     "text": [
      "Proponen 40 años de cárcel por intento de feminicidio en México 0:37\n",
      "\n",
      "(CNN Español) -- El caso de Debanhi Escobar, que se ha convertido en el rostro visible más reciente de la violencia contra las mujeres en México, vuelve a poner el foco en un crimen que no se detiene en el país: los feminicidios. Las cifras revelan con claridad cuál es su alcance.\n",
      "\n",
      "De enero a marzo de 2022 se registraron 229 presuntos feminicidios en el país, según el reporte más reciente del Secretariado Ejecutivo del Sistema Nacional de Seguridad Pública (SESNSP). El mes con más casos fue febrero, en el que la cifra ascendió a 81. En enero se registraron 78 casos mientras que en marzo el total fue de 70.\n",
      "\n",
      "La cifra oficial de feminicidios —que en términos generales se define como el \"asesinato intencional de mujeres por ser mujeres\"— no ha dejado de crecer desde 2015, según las estadísticas: ese año hubo 412 presuntos casos y cinco años después la cifra se había duplicado con creces, alcanzado los 948.\n",
      "\n",
      "El año 2021 cerró con 977 casos registrados por las autoridades nacionales.\n",
      "\n",
      "Al ser consultado por el caso de Debanhi Escobar, que ha conmocionado a México, el presidente Andrés Manuel López Obrador dijo que están \"actuando todos los días\" para hacer frente a la problemática. Además, en esa instancia, López Obrador dijo que \"afortunadamente\" el último reporte marcaba una disminución de feminicidios en marzo del 34,8% en comparación con el máximo histórico mensual registrado en agosto de 2021.\n",
      "\n",
      "publicidad\n",
      "\n",
      "Los estados de México con más feminicidios\n",
      "\n",
      "El Estado de México, donde se registraron 39 presuntos feminicidios en lo que va de 2022, encabeza la lista de este tipo de homicidios a nivel estatal en términos absolutos, seguido por Nuevo León y Veracruz con 21 cada uno.\n",
      "\n",
      "Si se analizan los datos de presuntos feminicidios cada 100.000 mujeres, la lista cambia y los tres con mayor incidencia de este tipo de delito son Morelos, Nuevo León y Aguascalientes.\n",
      "\n",
      "México vive una época de violencia inimaginable, afirma activista 3:38\n",
      "\n",
      "En el otro extremo están Colima y Nayarit, donde no se han registrados feminicidios en lo que va del año.\n",
      "\n",
      "A nivel municipal, Guadalupe (en Nuevo León), Juárez (Chihuahua), Ecatepec de Morelos (Estado de México), Morelia (Michoacán) y Salinas Victoria (Nuevo León) son los tres municipios con más presuntos feminicidios en el primer trimestre de 2022, contando con cinco casos en Guadalupe y cuatro en los restantes municipios mencionados.\n",
      "\n",
      "La mayor parte de las víctimas de feminicidio son mayores de edad, según las estadísticas estatales.\n",
      "\n",
      "Estas cifras refieren específicamente a los delitos tipificados como feminicidio. Además, en el primer trimestre 628 mujeres fueron presuntas víctimas de homicidios dolosos, mientras que un total de 888 fueron víctimas de homicidio culposo.\n",
      "\n",
      "Si se suman las tres tipificaciones, las cifras arrojan la muerte de 1.745 mujeres por presuntos homicidios en el primer trimestre del año, aunque poco más del 10% están tipificados como presuntos feminicidios.\n",
      "\n",
      "En marzo, en el marco de la celebración del Día Internacional de la Mujer, el Observatorio Ciudadano Nacional de Feminicidio ponía las cifras bajo otra óptica, recalcando que entre 10 y 11 mujeres son asesinadas al día en el país.\n",
      "\n",
      "Máximo histórico de llamadas de emergencia\n",
      "\n",
      "Otras cifras de México echan luz sobre la situación que enfrentan las mujeres en México. Entre ellas están, por ejemplo, la cantidad de llamadas de emergencia vinculadas con incidentes de violencia contra las mujeres, que en el primer trimestre de 2022 alcanzó casi las 74.600.\n",
      "\n",
      "En el mes de marzo se registró un máximo histórico de llamadas de emergencia, según las estadísticas que cubren desde 2016 hasta la actualidad: 28.832.\n",
      "\n",
      "Con el paso de los años la cantidad de llamadas de este tipo (que no equivalen a las denuncias ante las autoridades) aumentaron de manera sostenida, superando las 290.000 en 2021.\n",
      "\n",
      "Registro de agresores sexuales y feminicidas\n",
      "\n",
      "Rosa Icela Rodríguez, de la Secretaría de Seguridad y Protección Ciudadana de México, dijo esta semana que está trabajando en una iniciativa para que se cree un registro de feminicidas y agresores sexuales. El objetivo sería que las fiscalías de los estados puedan recurrir a un banco de ADN de uso forense durante las investigaciones.\n",
      "\n",
      "Los datos de feminicidio de México, en clave regional\n",
      "\n",
      "México ocupaba el segundo lugar de América Latina en cantidad de feminicidios para 2020, según las cifras más recientes disponibles del Observatorio de Igualdad de Género de América Latina y el Caribe. Por encima se ubica, en ese comparativo, solo Brasil.\n",
      "\n",
      "Por otra parte, si se mide la cantidad de feminicidios cada 100.000 mujeres, bajaba a la novena posición. En esa calificación el país con un peor resultado es Honduras, seguido de Santa Lucía y Trinidad y Tobago.\n",
      "\n",
      "A nivel global no hay datos consistentes estandarizados sobre este delito. Un informe de la Oficina de las Naciones Unidas contra la Droga y el Delito (UNODC) publicado en 2019 pero con datos de 2017 daba cuenta de que, ese año, 87.000 mujeres en todo el mundo fueron asesinadas intencionalmente, más de la mitad de ellas (50.000) por parejas íntimas o miembros de la familia. El número total ha aumentado de un estimado de 48.000 en 2012.\n"
     ]
    }
   ],
   "source": [
    "article_url = 'https://cnnespanol.cnn.com/2022/04/27/feminicidio-mexico-cifras-orix/'\n",
    "\n",
    "cnn_article = Article(article_url)\n",
    "cnn_article.download()\n",
    "cnn_article.parse()\n",
    "cnn_article.nlp()\n",
    "\n",
    "print(cnn_article.text)"
   ]
  },
  {
   "cell_type": "code",
   "execution_count": 17,
   "metadata": {},
   "outputs": [],
   "source": [
    "atlantic_article = Article('https://www.theatlantic.com/family/archive/2022/11/adoption-abortion-roe-v-wade-evangelicals/672219/')\n",
    "atlantic_article.download()\n",
    "atlantic_article.parse()\n",
    "atlantic_article.nlp()"
   ]
  },
  {
   "cell_type": "code",
   "execution_count": 7,
   "metadata": {},
   "outputs": [
    {
     "data": {
      "text/plain": [
       "'Suspect in Colorado grocery store shooting faces 10 counts of murder, police say'"
      ]
     },
     "execution_count": 7,
     "metadata": {},
     "output_type": "execute_result"
    }
   ],
   "source": [
    "cnn_article.title"
   ]
  },
  {
   "cell_type": "code",
   "execution_count": null,
   "metadata": {},
   "outputs": [],
   "source": []
  },
  {
   "cell_type": "code",
   "execution_count": 29,
   "metadata": {},
   "outputs": [],
   "source": [
    "test_article = Article(\"https://twitter.com/navnitgroup/status/1593870830689452032\")\n",
    "test_article.download()\n",
    "test_article.parse()\n",
    "test_article.nlp()"
   ]
  },
  {
   "cell_type": "code",
   "execution_count": 31,
   "metadata": {},
   "outputs": [
    {
     "data": {
      "text/plain": [
       "''"
      ]
     },
     "execution_count": 31,
     "metadata": {},
     "output_type": "execute_result"
    }
   ],
   "source": [
    "test_article.title"
   ]
  }
 ],
 "metadata": {
  "kernelspec": {
   "display_name": "Python 3.10.6 ('anly580')",
   "language": "python",
   "name": "python3"
  },
  "language_info": {
   "codemirror_mode": {
    "name": "ipython",
    "version": 3
   },
   "file_extension": ".py",
   "mimetype": "text/x-python",
   "name": "python",
   "nbconvert_exporter": "python",
   "pygments_lexer": "ipython3",
   "version": "3.10.6"
  },
  "orig_nbformat": 4,
  "vscode": {
   "interpreter": {
    "hash": "c693da41a96e9cc3d1576646d8c39059c63edca165ce2b1bf6e58d2ed1150fea"
   }
  }
 },
 "nbformat": 4,
 "nbformat_minor": 2
}
