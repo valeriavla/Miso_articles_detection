{
 "cells": [
  {
   "cell_type": "code",
   "execution_count": 142,
   "metadata": {},
   "outputs": [],
   "source": [
    "import pandas as pd\n",
    "import numpy as np\n"
   ]
  },
  {
   "cell_type": "code",
   "execution_count": 143,
   "metadata": {},
   "outputs": [
    {
     "name": "stdout",
     "output_type": "stream",
     "text": [
      "           fecha                                             hechos  \\\n",
      "0  3/19/16 20:32  México.- El cadáver de una mujer fue encontrad...   \n",
      "1   7/27/16 4:28  01/09/2016 - 09:26\\nTranscurrieron ocho días p...   \n",
      "2  5/31/16 21:36  15/06/2016 14:06 Eduardo Hernández\\nLa Policía...   \n",
      "\n",
      "                                               lugar        lat        lon  \n",
      "0  Museo Nacional Numinástico, 13, Apartado, Cent...  19.440472 -99.129885  \n",
      "1  Hotel Mexicali, 285, Calzada San Antonio Abad,...  19.407515 -99.136154  \n",
      "2  Laboratorio médico del Chopo, 518, Avenida Rev...  19.390352 -99.185935  \n",
      "México.- El cadáver de una mujer fue encontrado entre puestos ambulantes sobre la calle Apartado en el número 14, casi esquina con Del Carmen, en el Centro Histórico de la Ciudad de México.\n",
      "\n",
      "A las 6:30 horas, policías reportaron el hallazgo del cuerpo de una mujer no identificada, de entre 40 y 45 años, que presentaba golpes y estaba semidesnudo.\n",
      "\n",
      "La víctima vestía falda y su ropa interior había sido bajada hasta los tobillos por lo que se presumen que fue víctima de abuso sexual.\n",
      "\n",
      "*************\n",
      "(2000, 5)\n"
     ]
    }
   ],
   "source": [
    "art_2016 = pd.read_csv(\"../../data/articles_maria/fem2016.csv\")\n",
    "\n",
    "print(art_2016.head(3))\n",
    "print(art_2016[\"hechos\"][0][0:500])\n",
    "\n",
    "print(art_2016.shape)"
   ]
  },
  {
   "cell_type": "code",
   "execution_count": 144,
   "metadata": {},
   "outputs": [
    {
     "name": "stdout",
     "output_type": "stream",
     "text": [
      "5\n",
      "           fecha                                             hechos  \\\n",
      "0  3/19/16 20:32  México.- El cadáver de una mujer fue encontrad...   \n",
      "1   7/27/16 4:28  01/09/2016 - 09:26\\nTranscurrieron ocho días p...   \n",
      "2  5/31/16 21:36  15/06/2016 14:06 Eduardo Hernández\\nLa Policía...   \n",
      "\n",
      "                                               lugar        lat        lon  \n",
      "0  Museo Nacional Numinástico, 13, Apartado, Cent...  19.440472 -99.129885  \n",
      "1  Hotel Mexicali, 285, Calzada San Antonio Abad,...  19.407515 -99.136154  \n",
      "2  Laboratorio médico del Chopo, 518, Avenida Rev...  19.390352 -99.185935  \n",
      "fecha     False\n",
      "hechos    False\n",
      "lugar     False\n",
      "lat       False\n",
      "lon       False\n",
      "dtype: bool\n",
      "fecha     False\n",
      "hechos    False\n",
      "lugar     False\n",
      "lat       False\n",
      "lon       False\n",
      "dtype: bool\n",
      "(7932, 5)\n"
     ]
    }
   ],
   "source": [
    "#creating a single set of articles\n",
    "art_2017 = pd.read_csv(\"../../data/articles_maria/fem2017.csv\")\n",
    "art_2018 = pd.read_csv(\"../../data/articles_maria/fem2018.csv\")\n",
    "art_2019 = pd.read_csv(\"../../data/articles_maria/fem2019.csv\")\n",
    "art_2020 = pd.read_csv(\"../../data/articles_maria/fem2020.csv\")\n",
    "\n",
    "#cleaning column keys which are not the same\n",
    "art_year = [art_2016, art_2017, art_2018, art_2019, art_2020]\n",
    "\n",
    "for i in range(len(art_year)):\n",
    "    art_year[i] = art_year[i].rename(columns={\"Fecha\": \"fecha\", \"Lugar\": \"lugar\",\n",
    "                     \"Hechos\": \"hechos\", \"Latitud\": \"lat\", \"Longitud\": \"lon\"})\n",
    "\n",
    "print(len(art_year))\n",
    "\n",
    "articles = pd.concat(art_year)\n",
    "print(articles.head(3))\n",
    "\n",
    "articles = articles[pd.notnull(articles['hechos'])]\n",
    "print(articles.isna().any())\n",
    "print(articles.isnull().any())\n",
    "\n",
    "print(articles.shape)\n"
   ]
  },
  {
   "cell_type": "code",
   "execution_count": 145,
   "metadata": {},
   "outputs": [
    {
     "name": "stdout",
     "output_type": "stream",
     "text": [
      "[3]\n"
     ]
    }
   ],
   "source": [
    "#adding label column, assign 3 value as not labeled yet\n",
    "articles[\"label\"] = [3 for a in range(articles.shape[0])]\n",
    "\n",
    "#print(articles.head(5))\n",
    "print(articles[\"label\"].unique())\n"
   ]
  },
  {
   "cell_type": "code",
   "execution_count": 146,
   "metadata": {},
   "outputs": [
    {
     "name": "stdout",
     "output_type": "stream",
     "text": [
      "[1237, 1869, 1378, 787, 1631, 1718, 185, 1329, 262, 277, 1637, 978, 464, 91, 885, 689, 1447, 388, 1319, 1774, 0, 2]\n",
      "[3]\n",
      "1237    Ó†Ö 3 Enero, 2016\\nA través de redes sociales ...\n",
      "1237    Nicolás Romero\\n15/07/2017 02:13 PM\\nLa madrug...\n",
      "1237    Por: Redacción/GH | 25/04/2018 18:10\\nB√ÅCUM, ...\n",
      "1237    Registran seis muertes violentas más en Tijuan...\n",
      "Name: hechos, dtype: object\n",
      "1869    agosto 17, 2016\\nembolsada‚Ä¢ A orillas del rí...\n",
      "1869    28/02/2017 15:35 Eduardo Hernández Ciudad de M...\n",
      "1869    CHILPANCINGO, Gro., 10 de febrero de 2018.- A ...\n",
      "Name: hechos, dtype: object\n",
      "1378    Tomás Martínez\\nMar, 12/20/2016 - 06:35\\nPerma...\n",
      "1378    Martes, 27 de junio de 2017 - 11:33 am \\n\\n\\nU...\n",
      "1378    14ABR2018\\nEditor\\nauthor\\n   \\nUn hombre y un...\n",
      "1378    anizaban tandas\\nLos cuerpos de las mujeres de...\n",
      "Name: hechos, dtype: object\n",
      "787    A+ CHILPANCINGO, Gro., 23 de diciembre de 2016...\n",
      "787    26/08/2017 02:35 Gladys Rodríguez Navarro/ cor...\n",
      "787    23/06/201809:06 a.m.Autor: RedacciónFuente: El...\n",
      "787    Ejecutan a mujer en Parral\\nEl cadáver sólo vi...\n",
      "Name: hechos, dtype: object\n",
      "1631    09, Diciembre 2016 por Erick Valenzuela\\nCulia...\n",
      "1631    May 25, 2017 59 Views\\nShare on FacebookTweet ...\n",
      "1631    Juan Carlos Flores, corresponsal |  lunes, 12 ...\n",
      "1631    Encuentran el cuerpo de una mujer degollada a ...\n",
      "Name: hechos, dtype: object\n",
      "1718    16/06/2016 16:21\\nCABORCA, Sonora(GH)\\nUna muj...\n",
      "1718    05/11/2017 - 14:10 A+ A-\\nElementos policiacos...\n",
      "1718    marzo 01, 2018\\n\\n6:13pm\\n\\n0 Comentarios\\n\\n\\...\n",
      "1718    Muere mujer que resultó herida ataque armado e...\n",
      "Name: hechos, dtype: object\n",
      "185    1 de octubre de 2016\\n\\nJUAN ANTONIO GONZ√ÅLEZ...\n",
      "185    24 abril, 2017\\nFacebook Twitter  \\n\\nPublicid...\n",
      "185    Balean a mujer en Calz. Zaragoza; se resistió ...\n",
      "185    Feminicidios / Zona OrienteATAQUE: Hombres arm...\n",
      "Name: hechos, dtype: object\n",
      "1329    02/09/2016 06:05 PM\\nA balazos fue asesinada u...\n",
      "1329    El Sol de Cuernavaca Miércoles 5 de julio de 2...\n",
      "1329    Javier Rodríguez\\n19/04/2018 - 13:33\\n\\n\\nTras...\n",
      "1329    Grupo armado le quita la vida a pareja de come...\n",
      "Name: hechos, dtype: object\n",
      "262    10 octubre, 2016 | 11:39 pm\\nCarlos O. Barranc...\n",
      "262    Acapulco, Gro. 19 de Diciembre del 2017. ‚Äì D...\n",
      "262    19 septiembre, 2018\\nSeguridad\\nFacebook Twitt...\n",
      "262    Localizan 3 cuerpos de mujeres con signos de v...\n",
      "Name: hechos, dtype: object\n",
      "277    Jueves 15 Septiembre 2016 | 00:01:00 hrs\\n\\nSt...\n",
      "277    A+ CHILPANCINGO, Gro., 4 de septiembre de 2017...\n",
      "277    17 octubre, 2018\\nSeguridad\\nFacebook Twitter ...\n",
      "277    Matan a balazos a madre e hijo en un domicilio...\n",
      "Name: hechos, dtype: object\n",
      "1637    MAZATL√ÅN, SINALOA.- Durante las últimas 24 ho...\n",
      "1637    Redacción Miércoles 24 de mayo de 2017 en Poli...\n",
      "1637    Por MiMorelia.com -  lunes, marzo 12, 2018 2:4...\n",
      "1637    Matan a abogada en Guadalupe\\nRedacción ABC\\n2...\n",
      "Name: hechos, dtype: object\n",
      "978    AGENCIA REFORMA | GUADALAJARA, JAL. Publicada ...\n",
      "978    Mié, 08/09/2017 - 20:27\\nLa violan y asesinan\\...\n",
      "978    Una mujer de 60 años fue asesinada cerca del M...\n",
      "978    REPÚBLICA\\n  / MARTES 9 DE JULIO DE 2019\\n\\nHa...\n",
      "Name: hechos, dtype: object\n",
      "464    Publicado el 9 diciembre, 2016\\t\\nTEJUPILCO, M...\n",
      "464    Por Antonio Vázquez -Dic 16, 2017\\nCompartir e...\n",
      "464    Tarimoro, Gto., a 18 de agosto del 2018.- El c...\n",
      "464    Hallan dos cadáveres en Tezontepec\\nPor Redacc...\n",
      "Name: hechos, dtype: object\n",
      "91    Por: Luis Gerardo Andrade | 27/08/2016 6:43\\nT...\n",
      "91    Arrestan a padrastro por muerte de niña; descu...\n",
      "91    HALLAN A OTRAS DOS MUJERES ASESINADAS EN CIUDA...\n",
      "91    SEGURIDADEncuentran a tres ejecutados en los l...\n",
      "91    La Fiscalía General del Estado (FGE) de Baja C...\n",
      "Name: hechos, dtype: object\n",
      "885    Benito Juárez, Guerrero.- Una mujer que vendía...\n",
      "885    2017-09-22 07:57:57 | REDACCI√ìN El hallazgo s...\n",
      "885    POLICIACA\\n  / S√ÅBADO 9 DE JUNIO DE 2018\\n\\nM...\n",
      "885    LAPIDAN Y CALCINAN A PAREJA RAR√ÅMURI EN CAMAR...\n",
      "Name: hechos, dtype: object\n",
      "689    José Alberto García Rojas, un ex reo al que le...\n",
      "689    Armando Velazco Domingo 30 de abril de 2017 en...\n",
      "689    10 de Julio, 2018\\n\\n     \\nLa menor desaparec...\n",
      "689    Karla vivía en Tequis, la mataron a golpes y l...\n",
      "Name: hechos, dtype: object\n",
      "1447    15/10/2016 - 20:00\\nEl personal de un hotel ub...\n",
      "1447    20 Junio, 2017 0 COMPARTIR Facebook Twitter El...\n",
      "1447    Jueves, 5 de Abril de 2018 07:45|Javier Rodrig...\n",
      "1447    Asesinan a mujer en su propia casa\\nEl cuerpo ...\n",
      "Name: hechos, dtype: object\n",
      "388    Administrador Colimapm | seguridad | 2016¬≠09¬...\n",
      "388    (0)\\nEnviar\\nImprimir\\njueves, 27 de abril de ...\n",
      "388    Matan a joven en zona centro\\nEl cuerpo de una...\n",
      "388    Home / Michoacán / Con más de 11 balazos, es a...\n",
      "Name: hechos, dtype: object\n",
      "1319    07/11/2016 - 07:30 AM\\n\\nMonterrey, NL.- Una h...\n",
      "1319    Por: Redacción EL IMPARCIAL | 06/07/2017 6:00\\...\n",
      "1319    Seguridad\\nEjecutan a mujer en Cortazar\\nPoste...\n",
      "1319    lunes, 22 de abril de 2019 a las 9:18pmLE√ìN G...\n",
      "Name: hechos, dtype: object\n",
      "1774    presunto criminal esta prófugo\\n\\nÔÄó 10:59 AM...\n",
      "1774    09, Marzo 2017 por Ernesto Martínez Navolato, ...\n",
      "1774    febrero 21, 2018\\n28\\nCompartir\\nCompartir\\nTw...\n",
      "Name: hechos, dtype: object\n",
      "0    México.- El cadáver de una mujer fue encontrad...\n",
      "0    HOME2020FEBRERO5SU MADRE LA BUSC√ì 2 A√ëOS, Y ...\n",
      "0    FEMINICIDIO #230: Encuentran los cuerpos de un...\n",
      "0    El menor que arrolló a 4 adolescentes en Cuerá...\n",
      "0    Feminicidio 30: Adriana Ignacia fue hallada mu...\n",
      "Name: hechos, dtype: object\n",
      "2    15/06/2016 14:06 Eduardo Hernández\\nLa Policía...\n",
      "2    Condenan a hombre por apuñalar a mujer\\n\\nTras...\n",
      "2    FEMINICIDIO #188: Víctor Hugo discutió con su ...\n",
      "2    El menor que arrolló a 4 adolescentes en Cuerá...\n",
      "2    Matan a otra adolescente en Guerrero, ahora en...\n",
      "Name: hechos, dtype: object\n",
      "[3]\n"
     ]
    }
   ],
   "source": [
    "#randomly exploring the sentiment of some articles\n",
    "import random\n",
    "\n",
    "art_nums = [random.randint(0, 1999) for a in range(20)]\n",
    "art_nums.append(0)\n",
    "art_nums.append(2)\n",
    "\n",
    "print(art_nums)\n",
    "\n",
    "print(articles[\"label\"].unique())\n",
    "\n",
    "\n",
    "for x in art_nums:\n",
    "    print(articles[\"hechos\"][x])\n",
    "    #label = input(\"1 for misogynistic, 0 non-misogynistic\")\n",
    "    #articles.loc[x,'label'] = label\n",
    "\n",
    "print(articles[\"label\"].unique())\n",
    "\n",
    "articles.to_csv(\"articles_autolabeled.csv\",encoding='utf-8')"
   ]
  },
  {
   "cell_type": "code",
   "execution_count": 147,
   "metadata": {},
   "outputs": [
    {
     "name": "stdout",
     "output_type": "stream",
     "text": [
      "fecha     False\n",
      "hechos    False\n",
      "lugar     False\n",
      "lat       False\n",
      "lon       False\n",
      "label     False\n",
      "dtype: bool\n",
      "fecha     False\n",
      "hechos    False\n",
      "lugar     False\n",
      "lat       False\n",
      "lon       False\n",
      "label     False\n",
      "dtype: bool\n",
      "introduced labels [0 3 1]\n"
     ]
    }
   ],
   "source": [
    "articles_l = pd.read_csv(\"articles_labeled.csv\",encoding='utf-8')\n",
    "\n",
    "articles_l = articles_l.drop(['Unnamed: 0', 'Unnamed: 0.1'], axis=1)\n",
    "\n",
    "print(articles_l.isna().any())\n",
    "print(articles_l.isnull().any())\n",
    "print(\"introduced labels\",articles_l[\"label\"].unique())"
   ]
  },
  {
   "cell_type": "code",
   "execution_count": 148,
   "metadata": {},
   "outputs": [
    {
     "name": "stdout",
     "output_type": "stream",
     "text": [
      "3    7910\n",
      "0      20\n",
      "1       2\n",
      "Name: label, dtype: int64\n"
     ]
    }
   ],
   "source": [
    "def check_balance(df):\n",
    "    print(df.label.value_counts())\n",
    "    \n",
    "check_balance(articles_l)"
   ]
  },
  {
   "cell_type": "code",
   "execution_count": 149,
   "metadata": {},
   "outputs": [],
   "source": [
    "articles_l[\"origin\"] = [\"maria\" for a in range(articles.shape[0])]\n",
    "articles_l.to_csv(\"articles_labeled.csv\",encoding='utf-8')\n"
   ]
  }
 ],
 "metadata": {
  "kernelspec": {
   "display_name": "Python 3.9.0 64-bit",
   "language": "python",
   "name": "python3"
  },
  "language_info": {
   "codemirror_mode": {
    "name": "ipython",
    "version": 3
   },
   "file_extension": ".py",
   "mimetype": "text/x-python",
   "name": "python",
   "nbconvert_exporter": "python",
   "pygments_lexer": "ipython3",
   "version": "3.9.0"
  },
  "orig_nbformat": 4,
  "vscode": {
   "interpreter": {
    "hash": "5848edd41bd0e1d918c82d233b3526a43c6228f12035757ca34703663b40f88a"
   }
  }
 },
 "nbformat": 4,
 "nbformat_minor": 2
}
